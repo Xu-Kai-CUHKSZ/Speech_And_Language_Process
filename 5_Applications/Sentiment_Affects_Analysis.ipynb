{
 "cells": [
  {
   "cell_type": "markdown",
   "metadata": {},
   "source": [
    "## Sentiment Affects Analysis\n",
    "\n",
    "### 1. Introduction\n",
    "- **Emotion**: A **strong** feeling or response that a person experiences in reaction to a **particular** situation or stimulus.\n",
    "- **Sentiment**: Sentiments are generally less intense than emotions and often reflect a person's overall outlook or disposition toward a particular topic or situation, like `positiev` and 'negative'.\n",
    "- **Why we need to detect emotion**:  It has the potential to improve a number of language processing tasks:\n",
    "    - Tutoring systems\n",
    "    - Emotions in reviews or customer responses\n",
    "    - Emotion can play a role in medical NLP tasks like helping diagnose depression or suicidal intent\n",
    "\n",
    "- **Methods overview**: In Chapter 4 of [Speech and Language Processing (3rd ed. draft)](https://web.stanford.edu/~jurafsky/slp3/), we can see the use of **naive Bayes classification** to classify a document’s sentiment. However, here, we focus on an alternative model, in which instead of using every word as a feature, we focus only on certain words, ones that carry particularly strong cues to affect or sentiment. We call these lists of words **affective lexicons** or **sentiment lexicons**. These lexicons presuppose a fact about semantics: that words have affective meanings or connotations. \n",
    "\n",
    "\n",
    "### 2.  Two Families of Theories of Emotion \n",
    "\n",
    "#### 2.1 Atomic basic emotions\n",
    "#### 2.2 Spatial Model---Dimensions of emotion\n",
    "\n",
    "### 3. Available Sentiment and Affect Lexicons\n",
    "\n",
    "### 4. Learn Affect Lexicons by Semi-supervised Methods\n",
    "\n",
    "-  A common way to learn **sentiment lexicons** is to start from a set of **seed words** that define **two poles** of a **semantic axis** (words like good or bad), and then find ways to label each **word w** by its similarity to the two seed sets. Here we summarize two families of seed-based semi-supervised lexicon induction algorithms, **axis-based** and **graph-based**."
   ]
  }
 ],
 "metadata": {
  "language_info": {
   "name": "python"
  }
 },
 "nbformat": 4,
 "nbformat_minor": 2
}

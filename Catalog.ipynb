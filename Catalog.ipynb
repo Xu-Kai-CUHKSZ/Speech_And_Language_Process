{
 "cells": [
  {
   "cell_type": "markdown",
   "metadata": {},
   "source": [
    "## 1. Basics of Digital Signal Processing\n",
    "## 2. Basics of Sound, Acoustics and Human Speech\n",
    "## 3. Basics of Words, Morphology and Syntax\n",
    "\n",
    "## 4. Language Models\n",
    "### 4.1 Statistical Language Models (SLMs)\n",
    "\n",
    "### 4.2 Neural language models (NLM)\n",
    "#### 4.2.1 Word2Vec\n",
    "#### 4.2.2 RNN\n",
    "\n",
    "### 4.3 Pre-trained language models (PLM)\n",
    "##### 4.3.1 Transformer\n",
    "\n",
    "\n",
    "\n",
    "\n",
    "#### 4.3.2 BERT\n",
    "\n",
    "### 4.4 Large language models (LLM)\n",
    "\n",
    "## 5. Applications of Speech and Language Processing\n",
    "\n",
    "### 5.1 Sentiment_affects Analysis\n",
    "### 5.2 Text-to-Speech\n",
    "### 5.3 Statistical Machine Translation\n",
    "### 5.4 ASR\n",
    "### 5.5 Chatbots\n",
    "### 5.6 Question Answering\n"
   ]
  }
 ],
 "metadata": {
  "language_info": {
   "name": "python"
  }
 },
 "nbformat": 4,
 "nbformat_minor": 2
}

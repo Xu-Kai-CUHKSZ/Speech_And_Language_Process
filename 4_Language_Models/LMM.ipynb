{
 "cells": [
  {
   "cell_type": "markdown",
   "metadata": {},
   "source": [
    "# LLM\n",
    "\n",
    "References: [从T5到GPT-4，最新大语言模型综述](https://zhuanlan.zhihu.com/p/624937418)"
   ]
  }
 ],
 "metadata": {
  "language_info": {
   "name": "python"
  }
 },
 "nbformat": 4,
 "nbformat_minor": 2
}

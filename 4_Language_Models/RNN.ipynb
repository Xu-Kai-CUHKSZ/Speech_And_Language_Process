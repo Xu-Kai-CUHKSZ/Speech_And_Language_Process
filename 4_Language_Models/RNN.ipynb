{
 "cells": [
  {
   "cell_type": "markdown",
   "metadata": {},
   "source": [
    "## RNN with Its Application in Machine Translation"
   ]
  },
  {
   "cell_type": "markdown",
   "metadata": {},
   "source": [
    "### 1. RNN and its Variations\n",
    "\n",
    "\n",
    "#### 1.4 Encoder-Decoder (Seq2seq) Models\n",
    "- **Seq2seq** : Input a sequence, output a sequence, the output length is determined by the **model**."
   ]
  },
  {
   "cell_type": "markdown",
   "metadata": {},
   "source": [
    "### 2. From RNN to Attention"
   ]
  }
 ],
 "metadata": {
  "language_info": {
   "name": "python"
  }
 },
 "nbformat": 4,
 "nbformat_minor": 2
}
